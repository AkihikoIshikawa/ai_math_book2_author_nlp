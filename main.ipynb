{
 "cells": [
  {
   "cell_type": "code",
   "execution_count": 23,
   "metadata": {},
   "outputs": [],
   "source": [
    "# モジュール読み込み\n",
    "import csv\n",
    "import pickle\n",
    "\n",
    "import gensim\n",
    "from gensim import models\n",
    "import nltk\n",
    "from sklearn.linear_model import LogisticRegression\n",
    "from sklearn.model_selection import train_test_split\n",
    "from sklearn.metrics import classification_report\n",
    "from sklearn.metrics import confusion_matrix"
   ]
  },
  {
   "cell_type": "code",
   "execution_count": 24,
   "metadata": {},
   "outputs": [
    {
     "name": "stdout",
     "output_type": "stream",
     "text": [
      "[nltk_data] Downloading package punkt to /Users/IA/nltk_data...\n",
      "[nltk_data]   Package punkt is already up-to-date!\n"
     ]
    },
    {
     "data": {
      "text/plain": [
       "True"
      ]
     },
     "execution_count": 24,
     "metadata": {},
     "output_type": "execute_result"
    }
   ],
   "source": [
    "dataset_file_name = './dataset/corpus.csv'\n",
    "model_file_name = 'logistic.pkl'\n",
    "nltk.download('punkt')"
   ]
  },
  {
   "cell_type": "code",
   "execution_count": 25,
   "metadata": {},
   "outputs": [
    {
     "name": "stdout",
     "output_type": "stream",
     "text": [
      "['実に', '大浦', '武士', '冥々', '裡', '照覧', '給う', '擦ら'] ら\n",
      "sum_words:  102532\n"
     ]
    }
   ],
   "source": [
    "def make_dataset(dataset_file_name):\n",
    "    \"\"\"\n",
    "    csvファイルを扱いやすいフォーマットに変形\n",
    "    \"\"\"\n",
    "    with open(dataset_file_name, 'r') as f:\n",
    "        data = list(csv.reader(f))\n",
    "    texts, label_ids = [], []\n",
    "    label2id = {}\n",
    "    idx_label, idx_sentence = 0, 1\n",
    "    sum_words = []\n",
    "    for counter, row in enumerate(data):\n",
    "        if counter == 0:\n",
    "            continue\n",
    "        label = row[idx_label]\n",
    "        if label not in label2id:\n",
    "            label2id[label] = len(label2id)\n",
    "        label_ids.append(label2id[label])\n",
    "        word_list = nltk.word_tokenize(row[idx_sentence])\n",
    "        texts.append(word_list)\n",
    "        for line in word_list:\n",
    "            for word in line:\n",
    "                sum_words.append(word)\n",
    "    print(word_list, word)\n",
    "    print('sum_words: ', len(sum_words))\n",
    "    id2label = {v: k for k, v in label2id.items()}\n",
    "    return texts, label_ids, id2label, label2id\n",
    "\n",
    "texts, label_ids, id2label, label2id = make_dataset(dataset_file_name)"
   ]
  },
  {
   "cell_type": "code",
   "execution_count": 26,
   "metadata": {},
   "outputs": [
    {
     "name": "stdout",
     "output_type": "stream",
     "text": [
      "8875\n",
      "dense_corpus:  [[ 0.          0.          0.         ...,  0.          0.          0.        ]\n",
      " [ 0.50336647  0.34863934  0.35234514 ...,  0.          0.          0.        ]\n",
      " [ 0.          0.          0.37041566 ...,  0.          0.          0.        ]\n",
      " ..., \n",
      " [ 0.          0.          0.         ...,  0.51831585  0.          0.        ]\n",
      " [ 0.          0.          0.         ...,  0.          0.63854194  0.        ]\n",
      " [ 0.          0.          0.         ...,  0.          0.38578594\n",
      "   0.4176282 ]]\n"
     ]
    }
   ],
   "source": [
    "def make_bow_model(texts):\n",
    "    \"\"\"\n",
    "    テキストのベクトル表現を作成\n",
    "    \"\"\"\n",
    "    # 頻出語の辞書を作成\n",
    "    dictionary = gensim.corpora.Dictionary(texts)\n",
    "    # 辞書を用いてBoW形式に文章を行列化\n",
    "    corpus = [dictionary.doc2bow(text) for text in texts]\n",
    "    \n",
    "    print(len(corpus))\n",
    "    \n",
    "    # BoW形式で作成したcorpusをtfidfを用いて重み付け\n",
    "    tfidf_model = models.TfidfModel(corpus)\n",
    "    tfidf_corpus = tfidf_model[corpus]\n",
    "\n",
    "    num_words = len(dictionary)\n",
    "    dense_corpus = gensim.matutils.corpus2dense(tfidf_corpus, num_terms=num_words).T\n",
    "    print('dense_corpus: ', dense_corpus)\n",
    "    return dense_corpus, dictionary, num_words\n",
    "\n",
    "dense_corpus, dictionary, num_words = make_bow_model(texts)"
   ]
  },
  {
   "cell_type": "code",
   "execution_count": 29,
   "metadata": {},
   "outputs": [
    {
     "name": "stdout",
     "output_type": "stream",
     "text": [
      "             precision    recall  f1-score   support\n",
      "\n",
      "      dazai       0.69      0.96      0.80       732\n",
      "       mori       0.95      0.62      0.75       492\n",
      "  akutagawa       0.87      0.68      0.77       551\n",
      "\n",
      "avg / total       0.82      0.78      0.78      1775\n",
      "\n",
      "[[704   7  21]\n",
      " [152 307  33]\n",
      " [166   9 376]]\n"
     ]
    }
   ],
   "source": [
    "def train(dense_corpus, label_ids, id2label):\n",
    "    \"\"\"\n",
    "    クロスバリデーションかけて訓練データとテストデータの作成\n",
    "    \"\"\"\n",
    "    X_train, X_test, y_train, y_test = train_test_split(dense_corpus, label_ids, test_size=0.2, random_state=42)\n",
    "\n",
    "    clf = LogisticRegression(C=1, penalty='l2')\n",
    "    clf.fit(X_train, y_train)\n",
    "\n",
    "    y_pred = clf.predict(X_test)\n",
    "    target_names = list(id2label.values())\n",
    "    print(classification_report(y_test, y_pred, target_names=target_names))\n",
    "    print(confusion_matrix(y_test, y_pred))\n",
    "    return clf\n",
    "\n",
    "clf = train(dense_corpus, label_ids, id2label)"
   ]
  },
  {
   "cell_type": "code",
   "execution_count": 30,
   "metadata": {
    "collapsed": true
   },
   "outputs": [],
   "source": [
    "# pickleにしてモデルを保存 \n",
    "with open('logistic.pkl', 'wb') as f:\n",
    "    pickle.dump((clf, dictionary, num_words, id2label, label2id), f)"
   ]
  }
 ],
 "metadata": {
  "kernelspec": {
   "display_name": "Python 3",
   "language": "python",
   "name": "python3"
  },
  "language_info": {
   "codemirror_mode": {
    "name": "ipython",
    "version": 3
   },
   "file_extension": ".py",
   "mimetype": "text/x-python",
   "name": "python",
   "nbconvert_exporter": "python",
   "pygments_lexer": "ipython3",
   "version": "3.6.1"
  }
 },
 "nbformat": 4,
 "nbformat_minor": 2
}
