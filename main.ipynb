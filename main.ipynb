{
 "cells": [
  {
   "cell_type": "code",
   "execution_count": null,
   "metadata": {},
   "outputs": [],
   "source": [
    "# モジュール読み込み\n",
    "import csv\n",
    "import pickle\n",
    "\n",
    "import gensim\n",
    "from gensim import models\n",
    "from sklearn.linear_model import LogisticRegression\n",
    "from sklearn.model_selection import train_test_split\n",
    "from sklearn.metrics import classification_report\n",
    "from sklearn.metrics import confusion_matrix"
   ]
  },
  {
   "cell_type": "code",
   "execution_count": null,
   "metadata": {
    "collapsed": true
   },
   "outputs": [],
   "source": [
    "dataset_file_name = './dataset/corpus.csv'\n",
    "model_file_name = 'logistic.pkl'"
   ]
  },
  {
   "cell_type": "code",
   "execution_count": null,
   "metadata": {},
   "outputs": [],
   "source": [
    "# csvファイルを扱いやすいフォーマットに変形\n",
    "\n",
    "with open(dataset_file_name, 'r') as f:\n",
    "    data = list(csv.reader(f))\n",
    "\n",
    "texts, label_ids = [], []\n",
    "label2id = {}\n",
    "idx_label, idx_sentence = 0, 1\n",
    "sum_words = []\n",
    "\n",
    "for counter, row in enumerate(data):\n",
    "    if counter == 0:\n",
    "        continue\n",
    "    label = row[idx_label]\n",
    "    if label not in label2id:\n",
    "        label2id[label] = len(label2id)\n",
    "    label_ids.append(label2id[label])\n",
    "    word_list = row[idx_sentence].split(' ')\n",
    "    texts.append(word_list)\n",
    "    \n",
    "    for line in word_list:\n",
    "        for word in line:\n",
    "            sum_words.append(word)\n",
    "\n",
    "print('sum_words: ', len(sum_words))\n",
    "id2label = {v: k for k, v in label2id.items()}"
   ]
  },
  {
   "cell_type": "code",
   "execution_count": null,
   "metadata": {
    "collapsed": true
   },
   "outputs": [],
   "source": [
    "#　テキストとラベルのデータをtrain, testに分割します\n",
    "X_train_texts, X_test_texts, y_train, y_test = train_test_split(texts, label_ids, test_size=0.2, random_state=42)"
   ]
  },
  {
   "cell_type": "code",
   "execution_count": null,
   "metadata": {},
   "outputs": [],
   "source": [
    "# trainのテキストデータから、tfidfで重み付けされた単語文書行列を作成します\n",
    "\n",
    "# テキストデータから辞書を作成します\n",
    "dictionary = gensim.corpora.Dictionary(X_train_texts)\n",
    "# 辞書を用いてBoW形式に文章を行列化します\n",
    "corpus = [dictionary.doc2bow(text) for text in X_train_texts]\n",
    "\n",
    "# BoW形式で作成したcorpusをtfidfを用いて重み付けします\n",
    "tfidf_model = models.TfidfModel(corpus)\n",
    "tfidf_corpus = tfidf_model[corpus]\n",
    "\n",
    "num_words = len(dictionary)\n",
    "X_train_tfidf = gensim.matutils.corpus2dense(tfidf_corpus, num_terms=num_words).T"
   ]
  },
  {
   "cell_type": "code",
   "execution_count": null,
   "metadata": {},
   "outputs": [],
   "source": [
    "# testのテキストデータから、tfidfで重み付けされた単語文書行列を作成します\n",
    "\n",
    "# 辞書を用いてBoW形式に文章を行列化します\n",
    "corpus = [dictionary.doc2bow(text) for text in X_test_texts]\n",
    "# BoW形式で作成したcorpusをtfidfを用いて重み付けします\n",
    "tfidf_corpus = tfidf_model[corpus]\n",
    "\n",
    "num_words = len(dictionary)\n",
    "X_test_tfidf = gensim.matutils.corpus2dense(tfidf_corpus, num_terms=num_words).T"
   ]
  },
  {
   "cell_type": "code",
   "execution_count": null,
   "metadata": {},
   "outputs": [],
   "source": [
    "# trainデータを用いて分類器を構築します\n",
    "clf = LogisticRegression(C=1, penalty='l2')\n",
    "clf.fit(X_train_tfidf, y_train)"
   ]
  },
  {
   "cell_type": "code",
   "execution_count": null,
   "metadata": {},
   "outputs": [],
   "source": [
    "# testデータを用いて分類器の精度を評価します\n",
    "y_pred = clf.predict(X_test_tfidf)\n",
    "target_names = list(id2label.values())\n",
    "\n",
    "print(classification_report(y_test, y_pred, target_names=target_names))\n",
    "print(confusion_matrix(y_test, y_pred))"
   ]
  },
  {
   "cell_type": "code",
   "execution_count": null,
   "metadata": {
    "collapsed": true
   },
   "outputs": [],
   "source": []
  }
 ],
 "metadata": {
  "kernelspec": {
   "display_name": "Python 3",
   "language": "python",
   "name": "python3"
  },
  "language_info": {
   "codemirror_mode": {
    "name": "ipython",
    "version": 3
   },
   "file_extension": ".py",
   "mimetype": "text/x-python",
   "name": "python",
   "nbconvert_exporter": "python",
   "pygments_lexer": "ipython3",
   "version": "3.5.2"
  }
 },
 "nbformat": 4,
 "nbformat_minor": 2
}
